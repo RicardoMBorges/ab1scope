{
 "cells": [
  {
   "cell_type": "markdown",
   "id": "90b3cc9b",
   "metadata": {},
   "source": [
    "# ab1scope: Interactive Analysis of Sanger Sequencing Data\n",
    "\n",
    "Welcome to **ab1scope**, an interactive toolkit for processing `.ab1` files generated from Sanger DNA sequencing. This notebook is designed to help you explore, visualize, and curate electropherogram trace data, offering key features such as:\n",
    "\n",
    "- Interactive selection of signal filtering and smoothing parameters  \n",
    "- Real-time visualization of the four-base trace signals (A, C, G, T)  \n",
    "- Generation of filtered base sequences (including IUPAC notation)  \n",
    "- Quality diagnostics using intensity, dominance, and Phred-like metrics  \n",
    "- Export of results in FASTA and CSV formats  \n",
    "- Batch processing of multiple `.ab1` files\n",
    "\n",
    "This tool is ideal for researchers, students, and laboratory technicians looking to:\n",
    "- Evaluate the quality of Sanger sequencing runs  \n",
    "- Identify ambiguities and sequencing artifacts  \n",
    "- Extract reliable sequences for downstream applications  \n",
    "\n",
    "Make sure your `.ab1` files are located in a designated folder before you begin. Each file will be analyzed independently, and all outputs (graphs, sequences, and tables) will be saved to a `/data` subfolder within the selected directory.\n",
    "\n",
    "> **Note**: This notebook is optimized for interactive use in Jupyter environments and relies on widgets for parameter control.\n",
    "\n",
    "---\n",
    "\n",
    "## How to Use This Notebook\n",
    "\n",
    "1. **Set the input folder** containing `.ab1` files  \n",
    "2. **Run the interactive cell** to analyze individual files  \n",
    "3. **Review the chromatogram, sequence, and diagnostics**  \n",
    "4. **Export results** for each file (CSV and FASTA)  \n",
    "5. Optionally, **run batch functions** to apply analysis to all files automatically\n",
    "\n",
    "Let's get started!\n"
   ]
  },
  {
   "cell_type": "code",
   "execution_count": 1,
   "id": "d864ef1f",
   "metadata": {},
   "outputs": [],
   "source": [
    "import plotly.io as pio\n",
    "import sys\n",
    "import os\n",
    "import numpy as np\n",
    "import pandas as pd\n",
    "\n",
    "sys.path.append(os.path.abspath(\"..\"))\n",
    "import ab1scope"
   ]
  },
  {
   "cell_type": "markdown",
   "id": "4d1936ac",
   "metadata": {},
   "source": [
    "## 📂 Seleção da Pasta de Entrada e Visualização dos Arquivos\n",
    "\n",
    "Nesta etapa, você define o caminho para a pasta que contém os arquivos `.ab1` a serem analisados.\n",
    "\n",
    "- A variável `path` deve apontar para o diretório com os arquivos de sequenciamento.\n",
    "- A seguir, o notebook lista automaticamente todos os arquivos `.ab1` encontrados nessa pasta.\n",
    "- Em seguida, é executada a função `process_ab1()` do `ab1scope`, que abre uma interface interativa para visualização e análise de um arquivo por vez.\n",
    "\n",
    "> ⚙️ A interface permite ajustar parâmetros como intensidade mínima e máxima, razão de dominância entre bases, normalização e suavização dos sinais, além do zoom sobre a região de interesse."
   ]
  },
  {
   "cell_type": "code",
   "execution_count": 2,
   "id": "0e66ff0d",
   "metadata": {
    "scrolled": false
   },
   "outputs": [
    {
     "name": "stdout",
     "output_type": "stream",
     "text": [
      "Arquivos .ab1 encontrados:\n",
      "HUGO_LIMA_01_E07_2025-06-06-13-11-55_PSEQDNA.ab1\n",
      "HUGO_LIMA_02_F07_2025-06-06-13-11-55_PSEQDNA.ab1\n"
     ]
    },
    {
     "data": {
      "application/vnd.jupyter.widget-view+json": {
       "model_id": "0c59f56015b943829417570c60413e41",
       "version_major": 2,
       "version_minor": 0
      },
      "text/plain": [
       "VBox(children=(Dropdown(description='File:', options=('HUGO_LIMA_01_E07_2025-06-06-13-11-55_PSEQDNA.ab1', 'HUG…"
      ]
     },
     "metadata": {},
     "output_type": "display_data"
    },
    {
     "data": {
      "application/vnd.jupyter.widget-view+json": {
       "model_id": "e8def8a6a28f479a8813bab97549b633",
       "version_major": 2,
       "version_minor": 0
      },
      "text/plain": [
       "Output()"
      ]
     },
     "metadata": {},
     "output_type": "display_data"
    },
    {
     "data": {
      "application/vnd.jupyter.widget-view+json": {
       "model_id": "826e128cfe7847c4a61a6e0bd7d62fe8",
       "version_major": 2,
       "version_minor": 0
      },
      "text/plain": [
       "Output()"
      ]
     },
     "metadata": {},
     "output_type": "display_data"
    }
   ],
   "source": [
    "pio.renderers.default = \"notebook_connected\"\n",
    "\n",
    "path = r\"C:\\Users\\borge\\Documents\\proc_sanger\\HUGO_LIMA_02seqs_BIOF-06062025_2025-06-06-13-11-55\"\n",
    "\n",
    "# Lista apenas arquivos com extensão .ab1 (case-insensitive)\n",
    "ab1_files = [f for f in os.listdir(path) if f.lower().endswith(\".ab1\")]\n",
    "\n",
    "# Exibe os arquivos encontrados\n",
    "print(\"Arquivos .ab1 encontrados:\")\n",
    "for f in ab1_files:\n",
    "    print(f)\n",
    "\n",
    "state = ab1scope.process_ab1(ab1_dir=path, return_data=True)"
   ]
  },
  {
   "cell_type": "markdown",
   "id": "27246cef",
   "metadata": {},
   "source": [
    "## 📊 Registro e Visualização dos Parâmetros de Processamento\n",
    "\n",
    "Após a análise interativa de cada arquivo `.ab1`, os parâmetros utilizados (como limites de intensidade, razão de dominância, uso de normalização e suavização) são armazenados no dicionário `state`.\n",
    "\n",
    "Esta célula extrai os parâmetros utilizados para cada arquivo analisado e organiza essas informações em um `DataFrame` (`df_params`) para documentação e inspeção.\n",
    "\n",
    "### O que é exibido:\n",
    "- Nome do arquivo `.ab1`  \n",
    "- Parâmetros ajustados manualmente durante a análise interativa  \n",
    "- Intervalo de zoom e configurações de pré-processamento\n",
    "\n",
    "Essa tabela é útil para:\n",
    "- Verificar quais parâmetros foram utilizados em cada análise  \n",
    "- Reproduzir ou justificar decisões durante o processamento de sequências  \n",
    "- Comparar a consistência entre diferentes arquivos processados\n"
   ]
  },
  {
   "cell_type": "code",
   "execution_count": 10,
   "id": "5396eae8",
   "metadata": {},
   "outputs": [
    {
     "data": {
      "text/html": [
       "<div>\n",
       "<style scoped>\n",
       "    .dataframe tbody tr th:only-of-type {\n",
       "        vertical-align: middle;\n",
       "    }\n",
       "\n",
       "    .dataframe tbody tr th {\n",
       "        vertical-align: top;\n",
       "    }\n",
       "\n",
       "    .dataframe thead th {\n",
       "        text-align: right;\n",
       "    }\n",
       "</style>\n",
       "<table border=\"1\" class=\"dataframe\">\n",
       "  <thead>\n",
       "    <tr style=\"text-align: right;\">\n",
       "      <th></th>\n",
       "      <th>file_name</th>\n",
       "      <th>intensity_min_threshold</th>\n",
       "      <th>intensity_max_threshold</th>\n",
       "      <th>dominance_ratio_threshold</th>\n",
       "      <th>normalize</th>\n",
       "      <th>smooth</th>\n",
       "      <th>smooth_window</th>\n",
       "      <th>zoom_range</th>\n",
       "    </tr>\n",
       "  </thead>\n",
       "  <tbody>\n",
       "    <tr>\n",
       "      <th>0</th>\n",
       "      <td>HUGO_LIMA_01_E07_2025-06-06-13-11-55_PSEQDNA.ab1</td>\n",
       "      <td>0</td>\n",
       "      <td>20000</td>\n",
       "      <td>1.0</td>\n",
       "      <td>False</td>\n",
       "      <td>True</td>\n",
       "      <td>5</td>\n",
       "      <td>(0, 1000)</td>\n",
       "    </tr>\n",
       "    <tr>\n",
       "      <th>1</th>\n",
       "      <td>HUGO_LIMA_02_F07_2025-06-06-13-11-55_PSEQDNA.ab1</td>\n",
       "      <td>0</td>\n",
       "      <td>20000</td>\n",
       "      <td>1.0</td>\n",
       "      <td>False</td>\n",
       "      <td>True</td>\n",
       "      <td>5</td>\n",
       "      <td>(0, 1000)</td>\n",
       "    </tr>\n",
       "  </tbody>\n",
       "</table>\n",
       "</div>"
      ],
      "text/plain": [
       "                                          file_name  intensity_min_threshold  \\\n",
       "0  HUGO_LIMA_01_E07_2025-06-06-13-11-55_PSEQDNA.ab1                        0   \n",
       "1  HUGO_LIMA_02_F07_2025-06-06-13-11-55_PSEQDNA.ab1                        0   \n",
       "\n",
       "   intensity_max_threshold  dominance_ratio_threshold  normalize  smooth  \\\n",
       "0                    20000                        1.0      False    True   \n",
       "1                    20000                        1.0      False    True   \n",
       "\n",
       "   smooth_window zoom_range  \n",
       "0              5  (0, 1000)  \n",
       "1              5  (0, 1000)  "
      ]
     },
     "metadata": {},
     "output_type": "display_data"
    }
   ],
   "source": [
    "base_pos, A, C, G, T = state[\"result\"]\n",
    "\n",
    "param_rows = []\n",
    "\n",
    "for fname, data in state.items():\n",
    "    if isinstance(data, dict) and \"params\" in data:\n",
    "        row = {\"file_name\": fname}\n",
    "        row.update(data[\"params\"])\n",
    "        param_rows.append(row)\n",
    "\n",
    "df_params = pd.DataFrame(param_rows)\n",
    "display(df_params)\n"
   ]
  },
  {
   "cell_type": "markdown",
   "id": "4a672627",
   "metadata": {},
   "source": [
    "## 📈 Visualização da Qualidade dos Sinais para Todos os Arquivos\n",
    "\n",
    "Nesta etapa, aplicamos a função `plot_quality_analysis()` para **todos os arquivos `.ab1` processados anteriormente** com a função `process_ab1()`.\n",
    "\n",
    "### O que essa célula faz:\n",
    "- Percorre cada entrada no dicionário `state`, que armazena os resultados e parâmetros para cada arquivo.\n",
    "- Recupera os sinais de intensidade (`A`, `C`, `G`, `T`) e as posições das bases (`base_pos`) para cada arquivo.\n",
    "- Gera automaticamente o gráfico de eletroferograma com as chamadas de base, destacando as posições aceitas e rejeitadas com base nos critérios definidos.\n",
    "\n",
    "> ✅ Útil para validar visualmente a qualidade da leitura de cada sequência processada e verificar se os parâmetros definidos produziram bons resultados."
   ]
  },
  {
   "cell_type": "code",
   "execution_count": 11,
   "id": "a0df78c1",
   "metadata": {},
   "outputs": [
    {
     "name": "stdout",
     "output_type": "stream",
     "text": [
      "✅ HTMLs saved in ./images:\n",
      "- HUGO_LIMA_01_E07_2025-06-06-13-11-55_PSEQDNA.ab1_dominance_ratio.html\n",
      "- HUGO_LIMA_01_E07_2025-06-06-13-11-55_PSEQDNA.ab1_total_intensity.html\n",
      "- HUGO_LIMA_01_E07_2025-06-06-13-11-55_PSEQDNA.ab1_quality_score.html\n",
      "✅ HTMLs saved in ./images:\n",
      "- HUGO_LIMA_02_F07_2025-06-06-13-11-55_PSEQDNA.ab1_dominance_ratio.html\n",
      "- HUGO_LIMA_02_F07_2025-06-06-13-11-55_PSEQDNA.ab1_total_intensity.html\n",
      "- HUGO_LIMA_02_F07_2025-06-06-13-11-55_PSEQDNA.ab1_quality_score.html\n"
     ]
    }
   ],
   "source": [
    "# Aplicar plot_quality_analysis para todos os arquivos que foram processados\n",
    "for fname, data in state.items():\n",
    "    if fname == \"result\" or \"params\" not in data:\n",
    "        continue  # pula a chave 'result' ou qualquer outra sem os dados esperados\n",
    "    \n",
    "    base_pos, A, C, G, T = data[\"result\"]\n",
    "    ab1scope.plot_quality_analysis(base_pos, A, C, G, T, file_name=fname)"
   ]
  },
  {
   "cell_type": "markdown",
   "id": "3bceea2d",
   "metadata": {},
   "source": [
    "## 🔬 Análise da Qualidade por Arquivo com Escore Tipo Phred\n",
    "\n",
    "Esta célula aplica a função `analyze_quality_score_phred_like()` a todos os arquivos `.ab1` que já foram processados. A análise simula escores de qualidade no estilo **Phred**, com base na dominância do sinal da base chamada sobre os demais sinais (A, C, G, T).\n",
    "\n",
    "### O que é feito aqui:\n",
    "- Para cada arquivo no dicionário `state`, são extraídos os sinais de intensidade e as posições das bases.\n",
    "- A função calcula:\n",
    "  - `phred_scores`: valores simulados de qualidade para cada base chamada;\n",
    "  - `dominance_ratios`: razão entre o maior e o segundo maior sinal (base dominante vs. concorrente);\n",
    "  - `low_regions`: regiões da sequência com qualidade abaixo de um limiar, úteis para identificar trechos pouco confiáveis.\n",
    "- Os resultados são armazenados no dicionário `quality_scores_results`, organizado por nome de arquivo.\n",
    "\n",
    "> 🧪 Essa análise ajuda a identificar **regiões de baixa confiabilidade**, que podem ser ambíguas ou propensas a erros na chamada de bases."
   ]
  },
  {
   "cell_type": "code",
   "execution_count": 12,
   "id": "c452d6ed",
   "metadata": {},
   "outputs": [
    {
     "name": "stdout",
     "output_type": "stream",
     "text": [
      "✅ Quality analysis plot saved to: C:\\Users\\borge\\Documents\\proc_sanger\\HUGO_LIMA_02seqs_BIOF-06062025_2025-06-06-13-11-55\\images\\HUGO_LIMA_01_E07_2025-06-06-13-11-55_PSEQDNA_quality.html\n",
      "✅ Quality analysis plot saved to: C:\\Users\\borge\\Documents\\proc_sanger\\HUGO_LIMA_02seqs_BIOF-06062025_2025-06-06-13-11-55\\images\\HUGO_LIMA_02_F07_2025-06-06-13-11-55_PSEQDNA_quality.html\n"
     ]
    }
   ],
   "source": [
    "# Agora aplicar analyze_quality_score_phred_like para todos os arquivos processados\n",
    "quality_scores_results = {}\n",
    "\n",
    "for fname, data in state.items():\n",
    "    if fname == \"result\" or \"params\" not in data:\n",
    "        continue  # ignora chaves que não representam arquivos analisados\n",
    "\n",
    "    base_pos, A, C, G, T = data[\"result\"]\n",
    "\n",
    "    phred_scores, dominance_ratios, low_regions = ab1scope.analyze_quality_score_phred_like(\n",
    "        base_positions=base_pos,\n",
    "        A=A, C=C, G=G, T=T,\n",
    "        file_name=fname,\n",
    "        ab1_dir=path)\n",
    "\n",
    "    quality_scores_results[fname] = {\n",
    "        \"phred_scores\": phred_scores,\n",
    "        \"dominance_ratios\": dominance_ratios,\n",
    "        \"low_regions\": low_regions}"
   ]
  },
  {
   "cell_type": "markdown",
   "id": "cbde4329",
   "metadata": {},
   "source": [
    "## 🧬 Detecção de Ambiguidades e Indels nas Sequências Processadas\n",
    "\n",
    "Nesta célula, aplicamos a função `detect_ambiguities_and_indels()` a cada sequência processada. O objetivo é identificar:\n",
    "\n",
    "- **Bases ambíguas** (representadas por códigos IUPAC como R, Y, S, etc.), que indicam presença de sinais múltiplos próximos;\n",
    "- **Possíveis inserções ou deleções (indels)**, que podem ser inferidas por padrões incomuns de sinal ou regiões de baixa qualidade.\n",
    "\n",
    "### Etapas realizadas:\n",
    "- Para cada arquivo com dados válidos:\n",
    "  - Recupera-se a sequência filtrada (`filtered_seq`) e os sinais de intensidade das quatro bases.\n",
    "  - A função analisa cada posição da sequência para identificar potenciais **ambiguidades ou indels**.\n",
    "- Os resultados são salvos no dicionário `indel_results`, com um `DataFrame` por arquivo contendo:\n",
    "  - Posição\n",
    "  - Base dominante\n",
    "  - Bases alternativas\n",
    "  - Razões de dominância\n",
    "  - Classificação como ambiguidade ou potencial indel\n",
    "\n",
    "> 🧠 Esta etapa é crucial para validar a qualidade da sequência e identificar posições problemáticas que merecem atenção ou revisão manual.\n"
   ]
  },
  {
   "cell_type": "code",
   "execution_count": 13,
   "id": "2e3a3481",
   "metadata": {},
   "outputs": [
    {
     "name": "stdout",
     "output_type": "stream",
     "text": [
      "✅ Ambiguities and indels exported to: C:\\Users\\borge\\Documents\\proc_sanger\\HUGO_LIMA_02seqs_BIOF-06062025_2025-06-06-13-11-55\\data\\HUGO_LIMA_01_E07_2025-06-06-13-11-55_PSEQDNA_ambiguities_and_indels.csv\n",
      "✅ Ambiguities and indels exported to: C:\\Users\\borge\\Documents\\proc_sanger\\HUGO_LIMA_02seqs_BIOF-06062025_2025-06-06-13-11-55\\data\\HUGO_LIMA_02_F07_2025-06-06-13-11-55_PSEQDNA_ambiguities_and_indels.csv\n"
     ]
    }
   ],
   "source": [
    "# Agora aplicar detect_ambiguities_and_indels para cada entrada com dados no state\n",
    "indel_results = {}\n",
    "\n",
    "for fname, data in state.items():\n",
    "    if fname == \"result\" or \"params\" not in data:\n",
    "        continue  # pular entradas inválidas\n",
    "\n",
    "    base_pos, A, C, G, T = data[\"result\"]\n",
    "    iupac_seq = data[\"filtered_seq\"]\n",
    "\n",
    "    df_ambigs = ab1scope.detect_ambiguities_and_indels(\n",
    "        base_positions=base_pos,\n",
    "        A=A, C=C, G=C, T=T,\n",
    "        iupac_seq=iupac_seq,\n",
    "        file_name=fname,\n",
    "        ab1_dir=path\n",
    "    )\n",
    "\n",
    "    # Armazena o DataFrame de ambiguidades para esse arquivo\n",
    "    indel_results[fname] = df_ambigs"
   ]
  },
  {
   "cell_type": "markdown",
   "id": "08aee98c",
   "metadata": {},
   "source": [
    "## 📊 Comparação Visual entre Arquivos .ab1\n",
    "\n",
    "Nesta etapa, utilizamos a função `compare_ab1_samples()` para realizar uma **comparação direta** entre os arquivos .ab1 selecionados.\n",
    "\n",
    "### O que esta função faz:\n",
    "- **Carrega e processa** os sinais de intensidade (A, C, G, T) de todos os arquivos listados;\n",
    "- Gera **gráficos interativos** sobrepostos que permitem:\n",
    "  - Visualizar o perfil eletroforético de diferentes amostras;\n",
    "  - Verificar a consistência dos picos e possíveis falhas;\n",
    "  - Comparar a intensidade de sinais entre arquivos (por base e posição);\n",
    "  - Detectar variações que podem indicar erros, contaminações ou diferenças biológicas.\n",
    "\n",
    "### Aplicações:\n",
    "- Verificar se dois arquivos são replicatas confiáveis;\n",
    "- Avaliar se há diferenças significativas entre amostras;\n",
    "- Identificar ruídos ou regiões truncadas.\n",
    "\n",
    "> 📌 Útil especialmente para checagem de qualidade global e interpretação visual das curvas de fluorescência ao longo da leitura.\n"
   ]
  },
  {
   "cell_type": "code",
   "execution_count": 17,
   "id": "e25b55aa",
   "metadata": {},
   "outputs": [
    {
     "name": "stdout",
     "output_type": "stream",
     "text": [
      "\n",
      "First 20 polymorphic positions:\n"
     ]
    },
    {
     "data": {
      "text/html": [
       "<div>\n",
       "<style scoped>\n",
       "    .dataframe tbody tr th:only-of-type {\n",
       "        vertical-align: middle;\n",
       "    }\n",
       "\n",
       "    .dataframe tbody tr th {\n",
       "        vertical-align: top;\n",
       "    }\n",
       "\n",
       "    .dataframe thead th {\n",
       "        text-align: right;\n",
       "    }\n",
       "</style>\n",
       "<table border=\"1\" class=\"dataframe\">\n",
       "  <thead>\n",
       "    <tr style=\"text-align: right;\">\n",
       "      <th></th>\n",
       "      <th>HUGO_LIMA_01_E07_2025-06-06-13-11-55_PSEQDNA.ab1</th>\n",
       "      <th>HUGO_LIMA_02_F07_2025-06-06-13-11-55_PSEQDNA.ab1</th>\n",
       "      <th>Polymorphism</th>\n",
       "    </tr>\n",
       "    <tr>\n",
       "      <th>Base_Position</th>\n",
       "      <th></th>\n",
       "      <th></th>\n",
       "      <th></th>\n",
       "    </tr>\n",
       "  </thead>\n",
       "  <tbody>\n",
       "    <tr>\n",
       "      <th>663</th>\n",
       "      <td>T</td>\n",
       "      <td>C</td>\n",
       "      <td>True</td>\n",
       "    </tr>\n",
       "    <tr>\n",
       "      <th>7760</th>\n",
       "      <td>C</td>\n",
       "      <td>G</td>\n",
       "      <td>True</td>\n",
       "    </tr>\n",
       "    <tr>\n",
       "      <th>7895</th>\n",
       "      <td>C</td>\n",
       "      <td>A</td>\n",
       "      <td>True</td>\n",
       "    </tr>\n",
       "    <tr>\n",
       "      <th>7919</th>\n",
       "      <td>G</td>\n",
       "      <td>T</td>\n",
       "      <td>True</td>\n",
       "    </tr>\n",
       "    <tr>\n",
       "      <th>7981</th>\n",
       "      <td>T</td>\n",
       "      <td>A</td>\n",
       "      <td>True</td>\n",
       "    </tr>\n",
       "    <tr>\n",
       "      <th>7994</th>\n",
       "      <td>G</td>\n",
       "      <td>T</td>\n",
       "      <td>True</td>\n",
       "    </tr>\n",
       "    <tr>\n",
       "      <th>8019</th>\n",
       "      <td>C</td>\n",
       "      <td>A</td>\n",
       "      <td>True</td>\n",
       "    </tr>\n",
       "    <tr>\n",
       "      <th>8070</th>\n",
       "      <td>C</td>\n",
       "      <td>A</td>\n",
       "      <td>True</td>\n",
       "    </tr>\n",
       "    <tr>\n",
       "      <th>9109</th>\n",
       "      <td>T</td>\n",
       "      <td>C</td>\n",
       "      <td>True</td>\n",
       "    </tr>\n",
       "    <tr>\n",
       "      <th>9322</th>\n",
       "      <td>C</td>\n",
       "      <td>A</td>\n",
       "      <td>True</td>\n",
       "    </tr>\n",
       "    <tr>\n",
       "      <th>9361</th>\n",
       "      <td>T</td>\n",
       "      <td>C</td>\n",
       "      <td>True</td>\n",
       "    </tr>\n",
       "    <tr>\n",
       "      <th>9440</th>\n",
       "      <td>C</td>\n",
       "      <td>G</td>\n",
       "      <td>True</td>\n",
       "    </tr>\n",
       "    <tr>\n",
       "      <th>10453</th>\n",
       "      <td>A</td>\n",
       "      <td>G</td>\n",
       "      <td>True</td>\n",
       "    </tr>\n",
       "    <tr>\n",
       "      <th>10561</th>\n",
       "      <td>C</td>\n",
       "      <td>G</td>\n",
       "      <td>True</td>\n",
       "    </tr>\n",
       "    <tr>\n",
       "      <th>10611</th>\n",
       "      <td>A</td>\n",
       "      <td>G</td>\n",
       "      <td>True</td>\n",
       "    </tr>\n",
       "    <tr>\n",
       "      <th>10625</th>\n",
       "      <td>C</td>\n",
       "      <td>G</td>\n",
       "      <td>True</td>\n",
       "    </tr>\n",
       "    <tr>\n",
       "      <th>10692</th>\n",
       "      <td>C</td>\n",
       "      <td>A</td>\n",
       "      <td>True</td>\n",
       "    </tr>\n",
       "    <tr>\n",
       "      <th>10744</th>\n",
       "      <td>C</td>\n",
       "      <td>T</td>\n",
       "      <td>True</td>\n",
       "    </tr>\n",
       "    <tr>\n",
       "      <th>10757</th>\n",
       "      <td>C</td>\n",
       "      <td>A</td>\n",
       "      <td>True</td>\n",
       "    </tr>\n",
       "    <tr>\n",
       "      <th>11349</th>\n",
       "      <td>G</td>\n",
       "      <td>C</td>\n",
       "      <td>True</td>\n",
       "    </tr>\n",
       "  </tbody>\n",
       "</table>\n",
       "</div>"
      ],
      "text/plain": [
       "              HUGO_LIMA_01_E07_2025-06-06-13-11-55_PSEQDNA.ab1  \\\n",
       "Base_Position                                                    \n",
       "663                                                          T   \n",
       "7760                                                         C   \n",
       "7895                                                         C   \n",
       "7919                                                         G   \n",
       "7981                                                         T   \n",
       "7994                                                         G   \n",
       "8019                                                         C   \n",
       "8070                                                         C   \n",
       "9109                                                         T   \n",
       "9322                                                         C   \n",
       "9361                                                         T   \n",
       "9440                                                         C   \n",
       "10453                                                        A   \n",
       "10561                                                        C   \n",
       "10611                                                        A   \n",
       "10625                                                        C   \n",
       "10692                                                        C   \n",
       "10744                                                        C   \n",
       "10757                                                        C   \n",
       "11349                                                        G   \n",
       "\n",
       "              HUGO_LIMA_02_F07_2025-06-06-13-11-55_PSEQDNA.ab1  Polymorphism  \n",
       "Base_Position                                                                 \n",
       "663                                                          C          True  \n",
       "7760                                                         G          True  \n",
       "7895                                                         A          True  \n",
       "7919                                                         T          True  \n",
       "7981                                                         A          True  \n",
       "7994                                                         T          True  \n",
       "8019                                                         A          True  \n",
       "8070                                                         A          True  \n",
       "9109                                                         C          True  \n",
       "9322                                                         A          True  \n",
       "9361                                                         C          True  \n",
       "9440                                                         G          True  \n",
       "10453                                                        G          True  \n",
       "10561                                                        G          True  \n",
       "10611                                                        G          True  \n",
       "10625                                                        G          True  \n",
       "10692                                                        A          True  \n",
       "10744                                                        T          True  \n",
       "10757                                                        A          True  \n",
       "11349                                                        C          True  "
      ]
     },
     "metadata": {},
     "output_type": "display_data"
    },
    {
     "name": "stdout",
     "output_type": "stream",
     "text": [
      "✅ Comparison plot saved as HTML.\n",
      "✅ Alignment saved to 'data/sequence_alignment.csv'\n"
     ]
    }
   ],
   "source": [
    "ab1scope.compare_ab1_samples(\n",
    "    ab1_dir=path, \n",
    "    file_list=ab1_files)"
   ]
  },
  {
   "cell_type": "markdown",
   "id": "1ed407aa",
   "metadata": {},
   "source": [
    "## 🔤 Geração e Exportação de Sequências com Código IUPAC\n",
    "\n",
    "Nesta etapa, geramos as sequências de DNA utilizando **códigos IUPAC**, que permitem representar bases ambíguas de forma padronizada.\n",
    "\n",
    "### O que está sendo feito:\n",
    "- Para cada arquivo `.ab1` processado:\n",
    "  - Utilizamos as intensidades de sinal das quatro bases (A, C, G, T) para **determinar a base mais provável ou combinação ambígua**, de acordo com as regras do código IUPAC;\n",
    "  - A sequência gerada é então salva no formato **FASTA**, amplamente utilizado para análises bioinformáticas;\n",
    "  - A sequência IUPAC também é armazenada na estrutura `state` para uso posterior no notebook.\n",
    "\n",
    "### Exemplo de codificação IUPAC:\n",
    "| Código | Significado | Bases possíveis |\n",
    "|--------|-------------|------------------|\n",
    "| A      | Adenina     | A                |\n",
    "| R      | Purina      | A ou G           |\n",
    "| Y      | Pirimidina  | C ou T           |\n",
    "| N      | Qualquer    | A, C, G ou T     |\n",
    "\n",
    "### Por que usar IUPAC?\n",
    "- Permite representar **incertezas** nos picos sem perder a informação;\n",
    "- É ideal para sequências que serão comparadas, alinhadas ou anotadas;\n",
    "- Facilita o rastreio de regiões problemáticas em análises futuras.\n",
    "\n",
    "> 📁 Os arquivos FASTA são salvos automaticamente no diretório `data/`, dentro da pasta onde estão os arquivos `.ab1`.\n"
   ]
  },
  {
   "cell_type": "code",
   "execution_count": 15,
   "id": "123660aa",
   "metadata": {},
   "outputs": [
    {
     "name": "stdout",
     "output_type": "stream",
     "text": [
      "✅ IUPAC FASTA saved: C:\\Users\\borge\\Documents\\proc_sanger\\HUGO_LIMA_02seqs_BIOF-06062025_2025-06-06-13-11-55\\data\\HUGO_LIMA_01_E07_2025-06-06-13-11-55_PSEQDNA_iupac.fasta\n",
      "✅ IUPAC FASTA saved: C:\\Users\\borge\\Documents\\proc_sanger\\HUGO_LIMA_02seqs_BIOF-06062025_2025-06-06-13-11-55\\data\\HUGO_LIMA_02_F07_2025-06-06-13-11-55_PSEQDNA_iupac.fasta\n"
     ]
    }
   ],
   "source": [
    "# gerar sequência com IUPAC:\n",
    "for fname, data in state.items():\n",
    "    if fname == \"result\" or \"params\" not in data:\n",
    "        continue  # ignora chaves inválidas\n",
    "\n",
    "    base_pos, A, C, G, T = data[\"result\"]\n",
    "\n",
    "    # Gera a sequência com códigos IUPAC\n",
    "    iupac_seq = ab1scope.call_iupac_sequence(base_pos, A, C, G, T)\n",
    "\n",
    "    # Salva em formato FASTA\n",
    "    ab1scope.export_iupac_fasta(iupac_seq, fname, path)\n",
    "\n",
    "    # Opcional: salva também no próprio state\n",
    "    state[fname][\"iupac_seq\"] = iupac_seq"
   ]
  },
  {
   "cell_type": "markdown",
   "id": "e00741e7",
   "metadata": {},
   "source": [
    "## ⚙️ Geração e Exportação Automatizada de Sequências IUPAC\n",
    "\n",
    "Esta célula executa de forma **automatizada** a geração das sequências em código IUPAC para **todos os arquivos `.ab1`** listados, com base nos resultados previamente processados e otimizados armazenados no dicionário `state`.\n",
    "\n",
    "### O que faz a função:\n",
    "- Itera sobre cada arquivo `.ab1` listado em `ab1_files`;\n",
    "- Utiliza as intensidades de sinal (A, C, G, T) e posições já processadas;\n",
    "- Aplica as regras do código IUPAC para gerar a sequência correspondente;\n",
    "- Exporta a sequência no formato **FASTA** para a pasta `data/`;\n",
    "- Atualiza o dicionário `state` com as sequências IUPAC geradas.\n",
    "\n",
    "### Vantagens:\n",
    "- **Evita retrabalho**, reaproveitando os parâmetros ajustados via interface interativa;\n",
    "- Garante consistência e reprodutibilidade dos resultados;\n",
    "- Facilita a documentação e o compartilhamento das sequências.\n",
    "\n",
    "> 💾 Os arquivos `.fasta` gerados podem ser utilizados diretamente em pipelines de alinhamento, BLAST ou montagem de contigs.\n"
   ]
  },
  {
   "cell_type": "code",
   "execution_count": 18,
   "id": "0d73201c",
   "metadata": {},
   "outputs": [
    {
     "name": "stdout",
     "output_type": "stream",
     "text": [
      "Processando: HUGO_LIMA_01_E07_2025-06-06-13-11-55_PSEQDNA.ab1\n",
      "✅ IUPAC FASTA saved: C:\\Users\\borge\\Documents\\proc_sanger\\HUGO_LIMA_02seqs_BIOF-06062025_2025-06-06-13-11-55\\data\\HUGO_LIMA_01_E07_2025-06-06-13-11-55_PSEQDNA_iupac.fasta\n",
      "Processando: HUGO_LIMA_02_F07_2025-06-06-13-11-55_PSEQDNA.ab1\n",
      "✅ IUPAC FASTA saved: C:\\Users\\borge\\Documents\\proc_sanger\\HUGO_LIMA_02seqs_BIOF-06062025_2025-06-06-13-11-55\\data\\HUGO_LIMA_02_F07_2025-06-06-13-11-55_PSEQDNA_iupac.fasta\n",
      "✅ Todas as sequências foram exportadas para FASTA com código IUPAC.\n"
     ]
    },
    {
     "data": {
      "text/plain": [
       "{'result': (array([    3,    15,    29, ..., 15002, 15023, 15058], shape=(1129,)),\n",
       "  array([ 72. ,  97.2, 123.2, ...,  52.6,  42.6,  32.2], shape=(15071,)),\n",
       "  array([19.4, 28. , 37.4, ..., 21.2, 18.6, 14.8], shape=(15071,)),\n",
       "  array([ 32. ,  42.8,  54. , ..., 272. , 218.4, 164.2], shape=(15071,)),\n",
       "  array([10.4, 15.8, 22.2, ..., 35.6, 28.4, 21.4], shape=(15071,))),\n",
       " 'filtered_seq': 'AAAAAAACAATGGGCCTTCGATCCAGTACCTACCTTGGGTAAAAGACAGAATAACTAAAGACAGCCTATAGACAACGTGATTTGGCAATAAAAACTCCTGGGGAACCCTAACCATGCCGCTTTTCGCGAATACACATGACCCATGGCCGAGATTGACAACGACCTGTATAGTGACGGCATGCAGGAAGAAAAGCCACATGGCTTCCAATACTACGTCAGCATGAGGTGACACAACCACGTCATTCTCTGAAACTGACACTCTAATTTCACTGTTGCTAAACAATCATCAGAAAACCGGGGTTATCCGAAATATCCATTGACTAACATCCTATTATAGACAAACAACCGAGTGAGAACGGAGCCCTTGTGGGGTGTGAAACCACCACGTGACTAAGCTTCACAACCGTCATCGTAATGCCTGTTAGATTCATCATTATAAGCCACTAACAACGATCCATAGGCGTTAACCGGCGGAAATAGCCCATAGTTAGCAATAAGTCCGGCCAGTCAGGAGGCCCACTGATCATGTCCTGAGAAACACATCCTGACCCTGACGGCCTGCACAGCGAAGCAAAAGCACAAACCGGTTGCAGAGCATAAGACCCGATAGCACGCGGCAACCACCTCTTCAGAATACCAATATGTGCTGAAATTCCACTGACTATGACGAACTACCCATGCAAAACATACCCAAACGGCACGCTTTTGAGCAGTTGCATGAGCCCTACGAACGCTGCAAGAGGAGATAGCGTACTTTAGATCAGCTTACCATCCCTATAGGCCAGCGTTTATTGAAAACAGCTATCTATCCAGAGACCCTGTCCCAACCGGGACTAAAAATTTATCTCCATAAGAACAGCGAGAAGGGCCGGTACGATCCTATACCCCCTTGGCTTCAACTGGACTCGTTTGTACCGCTTGCCCCCCGGAAAGCAGATTGGTAAACATACAACCCTCAAAAAAAATCGAATGAGTAGTCATGTTAAGTAAACACGAGGAAAGGCCAGTTTTTCCTACATATCCTTTTTTAGTGGGGGGGATTTGTGGTCAGGAAATTTGTGAACCCCCTGATTAAAACCCCTGGACACCCAAAAACCCCCCTGTCCGGTGGGGGATTTTTGGGGGTTTG',\n",
       " 'HUGO_LIMA_01_E07_2025-06-06-13-11-55_PSEQDNA.ab1': {'params': {'intensity_min_threshold': 0,\n",
       "   'intensity_max_threshold': 20000,\n",
       "   'dominance_ratio_threshold': 1.0,\n",
       "   'normalize': False,\n",
       "   'smooth': True,\n",
       "   'smooth_window': 5,\n",
       "   'zoom_range': (0, 1000)},\n",
       "  'result': (array([    2,    10,    20, ..., 15026, 15076, 15090], shape=(1116,)),\n",
       "   array([60.6, 79.6, 97.8, ..., 40.4, 31.8, 23.6], shape=(15104,)),\n",
       "   array([ 19.6,  25.6,  31. , ..., 100.4,  80.4,  60.2], shape=(15104,)),\n",
       "   array([ 29.2,  38. ,  46. , ..., 152.4, 122.2,  91.6], shape=(15104,)),\n",
       "   array([ 50.8,  68.8,  88.4, ..., 154.2, 124.8,  94.4], shape=(15104,))),\n",
       "  'filtered_seq': 'ATTAAAAACATTGGCCTTCGATCCAGTACCTACCTTGGGTAAAAGACAGAATAACTAAAGACAGCCTATAGACAACGTGATTTGGCAATAAAAACTCCTGGGGAACCCTGACCATGCCGCTTTTCGCGAATACACATGACCCATGGCGGAGATTGACAACGACCTGTATAGTGACGGCATGCAGGAAGAAAAGCCACATGGCTTCGAATACTACGTCAGCATGAGGTGACACAACCACGTCATTCTCTGAAACTGACACTCTAATTTCACTGTTGCTAAACAATCATCAGAAAACCGGGGTTATCCGAAATATCCATTGACTAACATCCTATTATAGACAAACAACCGAGTGAGAACGGAGCCCTTGTGGGGTGTGAAACCACCACGTGACTAAGCTTGACAACCGTCTTCGTAATGCCTGTTAGATTCATCTTTATAAGCCACTAACAACGATCCATAGGCGTTAACCGGCGGAAATAGCCCATAGTTAGCTATAAGTCCGGCCAGTCAGGAGGCCCACTGATCGTGTCGTGAGAAACACTTCCTGACCCTGACGGCCTGCACCGCGAAGCAAAAGCACAAACCGGTTGCAGAGCATAAGACCCGATAGCACGCGGCCACCACCTCTTCAGAATACCAATATGTGCTGAAATTCCACTGACTATGACGAACTCCCCATGCAAAACATACCCAAACGGCCCGCTTTTGAGCTGTTGTATGAGCCCTACGAACGCTGCGAGAGGAGATAGCGTACTTTAGATCAGCTTACCCTCCCTATAGGCCAGCGTTTATTGAAAACAGCTATCTATCCAGAGACCCTGTCCCAACCGGAATAAAAAATTTTTCTCCAAAAAAAAACAGCGAGAAGGGGCCGGTACGATCCTACCCCCCCTTGGCTTTGAACTGGACTCGTTTGTACCGCTTGCCCCCCGGAAGGGGATTGGTAAACAATTCACCCCCCAAAAATCGATGAGTAGTTTTGTAAAGTAAAACCGAGAAAGCCCTTTTTCTTCCTTTCTTTTTTGGGGGGGGGTTTGTGGGCGGAATTTTTGGAACCCCTTATAACCCTTTACCACCAAAACCCCCCGTCCCGTGGGGAATTTGGTAGGGAAAAGG',\n",
       "  'iupac_seq': 'DWWWAADNVVNTGSSYBBBGATCCAGTACMTACYTTRGGKAWAARACAKAATAACTAAAGACAGCCTATAKWNRVCKTGATTTGGYAAKMAAAMCTCCTKGGGAACCCTRACMRWGCCGCTTWKCGCKAMTDSRYAWRRMCCMWSGSSSRKATTRMCAACGWMMTKTATAGKSACGGCATGCASGAAGAMAAGCCMCATGGCTTCSAATACTACGTSVGCATGAGGTGACACAACCACGTCATTCTCTGAAACTGACACTCTAATTTCACTGTTGCTAAACAATCATCAGAAAACCGSGGWWMTCCGAAATAYCCATTGACKWWCATYCKATTATAGACMRACMACCGAGTKRSAACGGAGCCCWTGTGGGGTSKGAAACCACSACGWSACWRASYTTSMCMACCGTYWTYGWWRYGCSKGTTAGATTYMTYWTTATAMGCCWCTMACAACGATMCAKAGGSGTTMASCGGSRGAWAKMSCCYATAKTTAGMWAWAWGKMSGGMSRRWMARGASSCSYWYTRMWYRTGTYSTKARMMWSAYWKYYTGACYSTGACGGCSTGCAMMGMGAARCAAMAGMAMAMASSGGTYRSAGAGCAWAASMCSCGATMSCVCGSGGMMACCHCYTCTTVARAAYMCMAATDTGTGSWRAWHKTSCNCWSACTRTSACGAACYMCCCATRMAAAACMYHCCMAARCGSCVYKYTKWTGAGYWKTTKYWKGMSCCCYMCSAAYGCTGSVAGARRADATMGVGKACKKTAGAHCABYYTNCCHTYCCKVBVSKYSNKBKTTTWWWRAAMWMARYTWTYTHBSSVSMBVYCYYGWCCSVACCGRAMWWWWWWWTTTHTYTMMAWWMARMMVMVRVRRGRVGGGGSSSGKHCBATHYYMHMCCHSCTTGGBTTBNRAYBGGDHTNGKTTKKWMMSSTTBCMCCMVGRWAGVDDRDKKKKWRAMMHDNHMMMMYYYARARAWVRADRRDKDKTYHKKKDRRDDRRAMMVVRRRAAGCCMKTTWYYYHMHWWYYTTTYTDKKKGGSVGDDTBKBBGBBVGRATYKKKKKNHHMMHYDDTAAYYYBKKHMMMMMAAAAMHMMYHBBCCMBBBKNDDDTTKGBNDRRDRRADKB'},\n",
       " 'HUGO_LIMA_02_F07_2025-06-06-13-11-55_PSEQDNA.ab1': {'params': {'intensity_min_threshold': 0,\n",
       "   'intensity_max_threshold': 20000,\n",
       "   'dominance_ratio_threshold': 1.0,\n",
       "   'normalize': False,\n",
       "   'smooth': True,\n",
       "   'smooth_window': 5,\n",
       "   'zoom_range': (0, 1000)},\n",
       "  'result': (array([    3,    15,    29, ..., 15002, 15023, 15058], shape=(1129,)),\n",
       "   array([ 72. ,  97.2, 123.2, ...,  52.6,  42.6,  32.2], shape=(15071,)),\n",
       "   array([19.4, 28. , 37.4, ..., 21.2, 18.6, 14.8], shape=(15071,)),\n",
       "   array([ 32. ,  42.8,  54. , ..., 272. , 218.4, 164.2], shape=(15071,)),\n",
       "   array([10.4, 15.8, 22.2, ..., 35.6, 28.4, 21.4], shape=(15071,))),\n",
       "  'filtered_seq': 'AAAAAAACAATGGGCCTTCGATCCAGTACCTACCTTGGGTAAAAGACAGAATAACTAAAGACAGCCTATAGACAACGTGATTTGGCAATAAAAACTCCTGGGGAACCCTAACCATGCCGCTTTTCGCGAATACACATGACCCATGGCCGAGATTGACAACGACCTGTATAGTGACGGCATGCAGGAAGAAAAGCCACATGGCTTCCAATACTACGTCAGCATGAGGTGACACAACCACGTCATTCTCTGAAACTGACACTCTAATTTCACTGTTGCTAAACAATCATCAGAAAACCGGGGTTATCCGAAATATCCATTGACTAACATCCTATTATAGACAAACAACCGAGTGAGAACGGAGCCCTTGTGGGGTGTGAAACCACCACGTGACTAAGCTTCACAACCGTCATCGTAATGCCTGTTAGATTCATCATTATAAGCCACTAACAACGATCCATAGGCGTTAACCGGCGGAAATAGCCCATAGTTAGCAATAAGTCCGGCCAGTCAGGAGGCCCACTGATCATGTCCTGAGAAACACATCCTGACCCTGACGGCCTGCACAGCGAAGCAAAAGCACAAACCGGTTGCAGAGCATAAGACCCGATAGCACGCGGCAACCACCTCTTCAGAATACCAATATGTGCTGAAATTCCACTGACTATGACGAACTACCCATGCAAAACATACCCAAACGGCACGCTTTTGAGCAGTTGCATGAGCCCTACGAACGCTGCAAGAGGAGATAGCGTACTTTAGATCAGCTTACCATCCCTATAGGCCAGCGTTTATTGAAAACAGCTATCTATCCAGAGACCCTGTCCCAACCGGGACTAAAAATTTATCTCCATAAGAACAGCGAGAAGGGCCGGTACGATCCTATACCCCCTTGGCTTCAACTGGACTCGTTTGTACCGCTTGCCCCCCGGAAAGCAGATTGGTAAACATACAACCCTCAAAAAAAATCGAATGAGTAGTCATGTTAAGTAAACACGAGGAAAGGCCAGTTTTTCCTACATATCCTTTTTTAGTGGGGGGGATTTGTGGTCAGGAAATTTGTGAACCCCCTGATTAAAACCCCTGGACACCCAAAAACCCCCCTGTCCGGTGGGGGATTTTTGGGGGTTTG',\n",
       "  'iupac_seq': 'RNWDAAHNNDWRGSYYBYBRATCYWKTASCTACCYTGGGTAAAASACAGAATAACTAAAGACAGCCTATAKASAACGTGATTTGGCAATAAAAACTCCTGGGGAACCCTAACCATGCCGCTTTTCGCGAATACACATGACCCATGGCCGAGATTGACAACGACCTGTATAGTGACGGCATGCAGGAAGAAAAGCCACATGGCTTCCAATACTACGTCAGCATGAGGTGACACAACCACGTCATTCTCTGAAACTGACACTCTAATTTCACTGTTGCTAAACAATCATCAGAAAACCGGGGTTATCCGAAATATCCATTGACTAACATCCTATTATAGACAAACAACCGAGTGAGAACGGAGCCCTTGTGGGGTGTGAAACCACCACGTGACTAAGCTTCACAACCGTCWTCGTAATGCCTGTTAGATTCATCATTATAAGCCACTAACAACGATCCATAGGCGTTAACCGGCGGAAATAGCCCATAGTTAGCAATAAGTCCGGCCAGTCAGGAGGCCCACTGATCATGTCCTGAGAAACACATCCTGACCCTGACGGCCTGCACAGCGAAGCAAAAGCACAAACCGGTTGCAGAGCATAAGACCCGATAGCACGCGGCAACCACCTCTTCAGAATACCAATATGTGCTGAAATTCCACTGACTRTGACGAACTACCCATGCAAAACATACCCAAACGGCACGCTTTTGAGCWGTTGCATGAGCCCTACGAACGCTGCAAGAGGAGATAGCGTACTTTAGATCAGCTTACCMTCCCTATAGGCCAGCGTTTATTGAAAACAGCTWTYTATCCAGAGACCCTGTYCCAACCSGGACTAAAAATTTWTYTCCATAARAACMGSGARAAGGGCCGGKWCGATYYTWTACCMCCTTGGSTTYAACTGGAYTBGTTTKKWCCSBTTGCCMCCCGGAAAVCMRATTGGKAAAMMWMMMAMMYYMAARAAARAWYRRADRRRKWKYHHKKKWRRDKWRAMMSVRRGAAAGGCCMKTTTWYYYYHMHWWTYYYTTTYYDKKGGGSSVGDTTBKKBGKBVGRRAAWYKKKDRAMMMMHBDDTWAAAAYYYYBKKAMMMMMARRRAMHHCCHNBBCMKKKBBBBDDTTTTTKGGSBNNNG'}}"
      ]
     },
     "execution_count": 18,
     "metadata": {},
     "output_type": "execute_result"
    }
   ],
   "source": [
    "# Executar geração e exportação para todos os arquivos\n",
    "ab1scope.generate_and_export_iupac_for_files(ab1_files, path, state=state)"
   ]
  }
 ],
 "metadata": {
  "kernelspec": {
   "display_name": "Python 3 (ipykernel)",
   "language": "python",
   "name": "python3"
  },
  "language_info": {
   "codemirror_mode": {
    "name": "ipython",
    "version": 3
   },
   "file_extension": ".py",
   "mimetype": "text/x-python",
   "name": "python",
   "nbconvert_exporter": "python",
   "pygments_lexer": "ipython3",
   "version": "3.11.6"
  }
 },
 "nbformat": 4,
 "nbformat_minor": 5
}
